{
 "cells": [
  {
   "cell_type": "code",
   "execution_count": 13,
   "metadata": {},
   "outputs": [],
   "source": [
    "in_dict = False #declare a global variable so that the value remains after the function is called/executed\n",
    "\n",
    "def test_dict():\n",
    "    global in_dict #refer to global variable instead of creating a local instance of the same name\n",
    "    test_word=input('What word would you like to test if it is included in the dictionary? >>>') #prompt user\n",
    "    my_dict = dict() #define dictionary\n",
    "    fin=open('words.txt') #read .txt file per exercise\n",
    "    for line in fin: #iterate for each line in the list of words.txt\n",
    "        word=line.strip()  #temp assign each word to a string variable\n",
    "        type(word)\n",
    "        my_dict[word]='' #assign each word as a key in dictionary, leave values blank\n",
    "    #print('The contents of the words.txt dictionary are:',my_dict) #debug statement to view the dictionary: keys populated, values blank.\n",
    "    print('Your test word was:',test_word) #debug statement to test user input\n",
    "    if test_word in my_dict: \n",
    "        in_dict=True \n",
    "    else:\n",
    "        in_dict=False #to make sure the variable is reset in the event of a negative result\n",
    "    print('The result of this test is',in_dict) #output result to user\n",
    "        \n",
    "    "
   ]
  },
  {
   "cell_type": "code",
   "execution_count": 14,
   "metadata": {},
   "outputs": [
    {
     "name": "stdout",
     "output_type": "stream",
     "text": [
      "What word would you like to test if it is included in the dictionary? >>>arrdvarkz\n",
      "Your test word was: arrdvarkz\n",
      "The result of this test is False\n"
     ]
    }
   ],
   "source": [
    "test_dict()\n"
   ]
  },
  {
   "cell_type": "code",
   "execution_count": null,
   "metadata": {},
   "outputs": [],
   "source": []
  }
 ],
 "metadata": {
  "kernelspec": {
   "display_name": "Python 3",
   "language": "python",
   "name": "python3"
  },
  "language_info": {
   "codemirror_mode": {
    "name": "ipython",
    "version": 3
   },
   "file_extension": ".py",
   "mimetype": "text/x-python",
   "name": "python",
   "nbconvert_exporter": "python",
   "pygments_lexer": "ipython3",
   "version": "3.6.9"
  }
 },
 "nbformat": 4,
 "nbformat_minor": 2
}
